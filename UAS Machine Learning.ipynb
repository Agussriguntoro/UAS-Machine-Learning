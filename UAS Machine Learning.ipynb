{
 "cells": [
  {
   "cell_type": "code",
   "execution_count": null,
   "metadata": {},
   "outputs": [
    {
     "name": "stdout",
     "output_type": "stream",
     "text": [
      "12\n"
     ]
    }
   ],
   "source": [
    "a = 3\n",
    "b = 4\n",
    "c = 2\n",
    "\n",
    "hasil = a * (b - c)\n",
    "print(hasil)"
   ]
  },
  {
   "cell_type": "code",
   "execution_count": 3,
   "metadata": {},
   "outputs": [
    {
     "name": "stdout",
     "output_type": "stream",
     "text": [
      "Kata terbanyak: makan\n",
      "Frekuensi: 2\n"
     ]
    }
   ],
   "source": [
    "from collections import Counter\n",
    "\n",
    "# Teks contoh\n",
    "teks = \"makan makan tidur mandi tidur\"\n",
    "\n",
    "# Menghitung frekuensi setiap kata\n",
    "frekuensi_kata = Counter(teks.split())\n",
    "\n",
    "# Mendapatkan kata terbanyak\n",
    "kata_terbanyak, frekuensi_terbanyak = frekuensi_kata.most_common(1)[0]\n",
    "\n",
    "print(f\"Kata terbanyak: {kata_terbanyak}\")\n",
    "print(f\"Frekuensi: {frekuensi_terbanyak}\")\n"
   ]
  },
  {
   "cell_type": "code",
   "execution_count": 5,
   "metadata": {},
   "outputs": [
    {
     "name": "stdout",
     "output_type": "stream",
     "text": [
      "Kata terbanyak: the\n",
      "Frekuensi: 46\n"
     ]
    }
   ],
   "source": [
    "from urllib.request import urlopen\n",
    "\n",
    "# Ambil Data dari URL ada di soal uts\n",
    "url = \"https://shared.djambred.my.id/uas-nim-genap.txt\"\n",
    "response = urlopen(url)\n",
    "teks = response.read().decode('utf-8')\n",
    "\n",
    "# Hitung Frekuensi Kata \n",
    "frekuensi_kata = Counter(teks.split())\n",
    "\n",
    "# Mendapatkan kata terbanyak\n",
    "kata_terbanyak, frekuensi_terbanyak = frekuensi_kata.most_common(1)[0]\n",
    "\n",
    "print(f\"Kata terbanyak: {kata_terbanyak}\")\n",
    "print(f\"Frekuensi: {frekuensi_terbanyak}\")\n"
   ]
  }
 ],
 "metadata": {
  "kernelspec": {
   "display_name": "Python 3",
   "language": "python",
   "name": "python3"
  },
  "language_info": {
   "codemirror_mode": {
    "name": "ipython",
    "version": 3
   },
   "file_extension": ".py",
   "mimetype": "text/x-python",
   "name": "python",
   "nbconvert_exporter": "python",
   "pygments_lexer": "ipython3",
   "version": "3.10.12"
  }
 },
 "nbformat": 4,
 "nbformat_minor": 2
}
